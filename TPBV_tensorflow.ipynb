{
 "cells": [
  {
   "cell_type": "markdown",
   "metadata": {},
   "source": [
    "# Two point boundary value problems in Tensorflow\n",
    "\n",
    "\n",
    "The two point boundary value problem is a syste of ordinary differential equations with boundary conditions in its domain. In general, it takes the form:\n",
    "$$\\frac{dy_i}{dx} = f(x, y_0,y_1, ..., y_N)$$\n",
    "And if we want to solve it in $x \\in (x_1, x_2)$, the boundary conditions are:\n",
    "$$B_{1j}(x_1, y_0, y_1, ..., y_N) = 0$$\n",
    "and\n",
    "$$B_{2k}(x_1, y_0, y_1, ..., y_N) = 0$$\n",
    "\n",
    "There are two types of numerical methods to solve this type of problem:\n",
    "- Shooting method: In this method we fix the values at one boundary point that need to be consistent with the boundary conditions at this point, and we choose the rest of parameters more of less randomly. With this we can proceed to solve the ODE using any method, for example, a Runge-Kutta method. Then we will find a discrepancy with the boundary conditions at the other end, and we are left with a root finding problem. This is the approach that we are going to use with our tensorflow solution.\n",
    "- Relaxation methods: Here, the differential equations are substituted by a finite-difference set of equations that cover the entire range of integration. The solution consist of, starting by an initial guess of the values for each element of the mesh, that doesn´t need to satisfy the differential equation, not the boundary conditions, and iteratively relaxe the values to satisfy all the conditions.\n"
   ]
  },
  {
   "cell_type": "markdown",
   "metadata": {},
   "source": [
    "## Problem: Interception of a manouvering target.\n",
    "The problem we are going to solve is the interception of a target that moves with constant acceleration, by an interceptor in a fixed time. The target is moving with an acceleration:\n",
    "$$u_t(t)=\\begin{Bmatrix} \n",
    "      1 \\\\ \n",
    "      -2 \\\\ \n",
    "      0.1\n",
    "   \\end{Bmatrix} m/s^2$$\n",
    "The initial velocity and position is:\n",
    "$$R_T(0)=\\begin{Bmatrix} \n",
    "      500 \\\\ \n",
    "      -600 \\\\ \n",
    "      500\n",
    "   \\end{Bmatrix} m$$\n",
    "$$V_T(0)=\\begin{Bmatrix} \n",
    "  100 \\\\ \n",
    "  100 \\\\ \n",
    "  10\n",
    "\\end{Bmatrix} m/s$$\n",
    "\n",
    "The interceptor is launched with an initial velocity of:\n",
    "$$V(0)=\\begin{Bmatrix} \n",
    "  150 \\\\ \n",
    "  40 \\\\ \n",
    "  5\n",
    "\\end{Bmatrix} m/s$$\n",
    "And the time is $t_f=50s$.\n",
    "\n",
    "### Equations to solve\n",
    "$$\\dot x = \\begin{pmatrix} \n",
    "  0 & I \\\\ \n",
    "  0 & 0 \\\\ \n",
    "\\end{pmatrix}x + \\begin{Bmatrix} \n",
    "  0 \\\\ \n",
    "  I \n",
    "\\end{Bmatrix}(u_T-u*)$$\n",
    "$$u*=-\\frac{t_f-t}{2\\rho}\\begin{Bmatrix} \n",
    "  \\lambda _1 \\\\ \n",
    "  \\lambda _2 \\\\ \n",
    "  \\lambda _3 \\\\ \n",
    "\\end{Bmatrix}$$"
   ]
  },
  {
   "cell_type": "markdown",
   "metadata": {},
   "source": [
    "## Shooting method using tensorflow"
   ]
  },
  {
   "cell_type": "code",
   "execution_count": 6,
   "metadata": {},
   "outputs": [
    {
     "ename": "ModuleNotFoundError",
     "evalue": "No module named 'tensorflow'",
     "output_type": "error",
     "traceback": [
      "\u001b[1;31m---------------------------------------------------------------------------\u001b[0m",
      "\u001b[1;31mModuleNotFoundError\u001b[0m                       Traceback (most recent call last)",
      "\u001b[1;32m<ipython-input-6-3fad267558b0>\u001b[0m in \u001b[0;36m<module>\u001b[1;34m()\u001b[0m\n\u001b[1;32m----> 1\u001b[1;33m \u001b[1;32mimport\u001b[0m \u001b[0mtensorflow\u001b[0m \u001b[1;32mas\u001b[0m \u001b[0mtf\u001b[0m\u001b[1;33m\u001b[0m\u001b[0m\n\u001b[0m\u001b[0;32m      2\u001b[0m \u001b[1;32mimport\u001b[0m \u001b[0mnumpy\u001b[0m\u001b[1;33m\u001b[0m\u001b[0m\n\u001b[0;32m      3\u001b[0m \u001b[1;32mimport\u001b[0m \u001b[0mmatplotlib\u001b[0m\u001b[1;33m.\u001b[0m\u001b[0mpyplot\u001b[0m \u001b[1;32mas\u001b[0m \u001b[0mplt\u001b[0m\u001b[1;33m\u001b[0m\u001b[0m\n\u001b[0;32m      4\u001b[0m \u001b[0mget_ipython\u001b[0m\u001b[1;33m(\u001b[0m\u001b[1;33m)\u001b[0m\u001b[1;33m.\u001b[0m\u001b[0mrun_line_magic\u001b[0m\u001b[1;33m(\u001b[0m\u001b[1;34m'matplotlib'\u001b[0m\u001b[1;33m,\u001b[0m \u001b[1;34m'inline'\u001b[0m\u001b[1;33m)\u001b[0m\u001b[1;33m\u001b[0m\u001b[0m\n\u001b[0;32m      5\u001b[0m \u001b[1;33m\u001b[0m\u001b[0m\n",
      "\u001b[1;31mModuleNotFoundError\u001b[0m: No module named 'tensorflow'"
     ]
    }
   ],
   "source": [
    "import tensorflow as tf\n",
    "import numpy\n",
    "import matplotlib.pyplot as plt\n",
    "%matplotlib inline \n",
    "\n",
    "# Global parameters\n",
    "R = 1\n",
    "t_f = 50\n",
    "ut = [1., -2., 0.1]"
   ]
  },
  {
   "cell_type": "markdown",
   "metadata": {},
   "source": [
    "First we need to define the ODE to solve"
   ]
  },
  {
   "cell_type": "code",
   "execution_count": null,
   "metadata": {},
   "outputs": [],
   "source": [
    "def interceptode(state, t):\n",
    "    x, y, z, dx, dy, dz, l1, l2, l3 = tf.unstack(state)\n",
    "\n",
    "    # At time greater than t_f, the acceleration of the interceptor is zero\n",
    "    c = tf.cond(t < t_f, lambda: -(t_f - t) / 2.0*R, lambda: np.float64(0.0))\n",
    "\n",
    "    x = dx\n",
    "    y = dy\n",
    "    z = dz\n",
    "    dx = ut[0] - c*l1\n",
    "    dy = ut[1] - c*l2\n",
    "    dz = ut[2] - c*l3\n",
    "    l1 = 0\n",
    "    l2 = 0\n",
    "    l3 = 0\n",
    "    return tf.stack([x, y, z, dx, dy, dz, l1, l2, l3])"
   ]
  },
  {
   "cell_type": "markdown",
   "metadata": {},
   "source": [
    "And then we can solve the ODE in tensorflow using odeint"
   ]
  },
  {
   "cell_type": "code",
   "execution_count": null,
   "metadata": {},
   "outputs": [],
   "source": [
    "# This is needed for IPython\n",
    "tf.reset_default_graph()\n",
    "\n",
    "target = tf.Variable([0, 0, 0], dtype=tf.float64)\n",
    "\n",
    "init_state = [np.float64(500), np.float64(-600), np.float64(500), np.float64(-50), np.float64(60), np.float64(5), \n",
    "              target[0], target[1], target[2]]\n",
    "t = np.linspace(0, 50, num=500)\n",
    "tensor_state = tf.contrib.integrate.odeint(\n",
    "    interceptode, init_state, t)"
   ]
  },
  {
   "cell_type": "markdown",
   "metadata": {},
   "source": [
    "The boundary conditions are going to be solved by reducing the error with tensorflow optimizer. Because we are using the shooting method the other boundary conditions were set as part of the ODE solver."
   ]
  },
  {
   "cell_type": "code",
   "execution_count": 62,
   "metadata": {},
   "outputs": [
    {
     "name": "stdout",
     "output_type": "stream",
     "text": [
      "1338125.000000001\n",
      "[-750. -100.  875.    0.  -40.   10.    0.    0.    0.]\n",
      "2802437.8953823824\n",
      "[-7.76320733e+02 -1.26956852e+03  7.66785361e+02 -7.89654450e-01\n",
      " -7.50884977e+01  6.75342739e+00 -1.26339511e-03 -5.61392855e-02\n",
      " -5.19430236e-03]\n",
      "1216684.235561824\n",
      "[ 3.50798274e+02  9.83362030e+02 -3.55842557e+02  3.30235942e+01\n",
      " -7.49948748e+00 -2.69248809e+01  5.28383280e-02  5.20013881e-02\n",
      " -5.90804549e-02]\n",
      "660364.3745217742\n",
      "[-1.55130177e+02 -7.85942609e+02  1.36356950e+02  1.78464753e+01\n",
      " -6.05787171e+01 -1.21597641e+01  2.85537508e-02 -3.29252445e-02\n",
      " -3.54548656e-02]\n",
      "292669.6103270406\n",
      "[ 3.84095725e+01  5.39624232e+02  5.42139056e-02  2.36520926e+01\n",
      " -2.08114309e+01 -1.62481577e+01  3.78436685e-02  3.07019705e-02\n",
      " -4.19974077e-02]\n",
      "105203.25782721236\n",
      "[ 4.80420917e+01 -3.06425841e+02 -9.48599986e+01  2.39403991e+01\n",
      " -4.61925518e+01 -1.90947504e+01  3.83060596e-02 -9.90845050e-03\n",
      " -4.65533276e-02]\n",
      "54481.439389616455\n",
      "[-1.12079868e+02  1.36822628e+02  1.52312544e+02  1.91376790e+01\n",
      " -3.28952933e+01 -1.16807087e+01  3.06201663e-02  1.13674861e-02\n",
      " -3.46889978e-02]\n",
      "49568.72082247866\n",
      "[ 1.46451060e+02 -3.72534775e+01 -1.63502252e+02  2.68919829e+01\n",
      " -3.81177127e+01 -2.11532732e+01  4.30296971e-02  3.01183632e-03\n",
      " -4.98481617e-02]\n",
      "35276.87540633627\n",
      "[-1.41181361e+02 -9.23165193e+00  1.23529248e+02  1.82651010e+01\n",
      " -3.72768688e+01 -1.25447913e+01  2.92232936e-02  4.35688055e-03\n",
      " -3.60705948e-02]\n",
      "11767.443243611287\n",
      "[ 9.51315370e+01  2.29970683e+01 -4.67821415e+01  2.53530624e+01\n",
      " -3.63102166e+01 -1.76525003e+01  4.05663321e-02  5.90386195e-03\n",
      " -4.42455628e-02]\n",
      "1859.8349422087663\n",
      "[-2.53576145e+01 -1.94625514e+01 -2.89488415e+01  2.17396649e+01\n",
      " -3.75838328e+01 -1.71189559e+01  3.47828340e-02  3.86579747e-03\n",
      " -4.33895437e-02]\n",
      "4900.925869578115\n",
      "[-3.42628501e+01  8.24579832e+00  6.04895841e+01  2.14724499e+01\n",
      " -3.67525753e+01 -1.44356942e+01  3.43553827e-02  5.19579825e-03\n",
      " -3.90964994e-02]\n",
      "3952.4930116558767\n",
      "[ 5.19885133e+01  5.09817123e+00 -3.49813685e+01  2.40601717e+01\n",
      " -3.68469872e+01 -1.73000269e+01  3.84954477e-02  5.04471210e-03\n",
      " -4.36791047e-02]\n",
      "1072.950914277582\n",
      "[-2.50025275e+01 -1.72673237e+01 -1.22337265e+01  2.17502293e+01\n",
      " -3.75179849e+01 -1.66173852e+01  3.47998782e-02  3.97116841e-03\n",
      " -4.25872183e-02]\n",
      "1732.6561791303156\n",
      "[-1.35096771e+01  2.61040225e+01  2.94741380e+01  2.20950109e+01\n",
      " -3.62168277e+01 -1.53661217e+01  3.53515355e-02  6.05299309e-03\n",
      " -4.05852414e-02]\n",
      "1555.891218053889\n",
      "[ 2.45068843e+01 -3.01915217e+01 -6.61633222e+00  2.32355916e+01\n",
      " -3.79057109e+01 -1.64489283e+01  3.71763299e-02  3.35080690e-03\n",
      " -4.23175833e-02]\n",
      "1107.5738644578826\n",
      "[-4.64922708e+00  2.89303048e+01 -1.57796076e+01  2.23607127e+01\n",
      " -3.61320581e+01 -1.67236148e+01  3.57768369e-02  6.18865460e-03\n",
      " -4.27574209e-02]\n",
      "751.0058624366704\n",
      "[-1.31551915e+01 -2.28004305e+01  7.62149380e+00  2.21053108e+01\n",
      " -3.76840164e+01 -1.60213158e+01  3.53685523e-02  3.70557949e-03\n",
      " -4.16341701e-02]\n",
      "303.69355564471863\n",
      "[ 6.72748458e+00  1.34940871e+01  8.73751226e+00  2.27014016e+01\n",
      " -3.65952408e+01 -1.59873905e+01  3.63229255e-02  5.44771712e-03\n",
      " -4.15806066e-02]\n",
      "78.97544958189094\n",
      "[ 6.74670262e+00 -3.64752867e+00 -4.48920794e+00  2.27028233e+01\n",
      " -3.71093721e+01 -1.63851670e+01  3.63238410e-02  4.62491854e-03\n",
      " -4.22154812e-02]\n"
     ]
    },
    {
     "data": {
      "image/png": "[encoded data removed]",
      "text/plain": [
       "<Figure size 432x288 with 1 Axes>"
      ]
     },
     "metadata": {},
     "output_type": "display_data"
    }
   ],
   "source": [
    "loss = tf.reduce_sum(tensor_state[-1][0]** 2 + tensor_state[-1][1]** 2 + tensor_state[-1][2]** 2)\n",
    "\n",
    "train_step = tf.train.AdamOptimizer(0.1).minimize(loss)\n",
    "\n",
    "sess = tf.Session()\n",
    "sess.run(tf.global_variables_initializer())\n",
    "losses = []\n",
    "trajectories = []\n",
    "for i in range(100):\n",
    "    loss_eval, state, _ = sess.run([loss, tensor_state, train_step])\n",
    "    losses.append(loss_eval)\n",
    "    trajectories.append(trajectory)\n",
    "    if i % 5 == 0:\n",
    "        print(loss_eval)\n",
    "        print(state[-1])\n",
    "state = sess.run([tensor_state])"
   ]
  },
  {
   "cell_type": "markdown",
   "metadata": {},
   "source": [
    "And to plot the results:"
   ]
  },
  {
   "cell_type": "code",
   "execution_count": null,
   "metadata": {},
   "outputs": [],
   "source": [
    "m = np.transpose(state)\n",
    "x, y, z = m[0], m[1], m[2]\n",
    "plt.plot(t, x)\n",
    "plt.plot(t, y)\n",
    "plt.plot(t, z)\n",
    "plt.show()"
   ]
  },
  {
   "cell_type": "markdown",
   "metadata": {},
   "source": [
    "If we execute the above code, we can see that this is not a very efficient way of solving this problem, it takes some time to reach a solution, but maybe with a finer mesh, or more complex problems it can be useful."
   ]
  },
  {
   "cell_type": "markdown",
   "metadata": {},
   "source": [
    "## Relaxation method with SciPy\n",
    " As a way of verifying the tensorflow solution, and to complete the analysis, here it is the implementation of the relaxation method to the same problem in python using SciPy boundary value problems solution."
   ]
  },
  {
   "cell_type": "code",
   "execution_count": 95,
   "metadata": {},
   "outputs": [
    {
     "data": {
      "image/png": "[encoded data removed]",
      "text/plain": [
       "<Figure size 432x288 with 1 Axes>"
      ]
     },
     "metadata": {},
     "output_type": "display_data"
    }
   ],
   "source": [
    "import numpy\n",
    "from scipy.integrate import solve_bvp\n",
    "\n",
    "R = 1\n",
    "t_f = 50\n",
    "ut = [1., -2., 0.1]\n",
    "r0 = [500, -600, 500]\n",
    "v0 = [-50, 60, 5]\n",
    "\n",
    "def interceptode(t, state):\n",
    "\n",
    "    c = -(t_f - t) / 2.0*R\n",
    "\n",
    "    xx = state[3]\n",
    "    yy = state[4]\n",
    "    z = state[5]\n",
    "    dx = ut[0] - c*state[6]\n",
    "    dy = ut[1] - c*state[7]\n",
    "    dz = ut[2] - c*state[8]\n",
    "    l1 = np.zeros((1, xx.size))\n",
    "    l2 = np.zeros((1, xx.size))\n",
    "    l3 = np.zeros((1, xx.size))\n",
    "    return numpy.vstack((xx, yy, z, dx, dy, dz, l1, l2, l3))\n",
    "\n",
    "def boundary_conditions(Ta,Tb):\n",
    "\n",
    "    return numpy.array([Ta[0] - r0[0], Ta[1] - r0[1], Ta[2] - r0[2], Ta[3] - v0[0], Ta[4] - v0[1], \n",
    "                         Ta[5] - v0[2], Tb[0], Tb[1], Tb[2]])\n",
    "\n",
    "x = np.linspace(0, t_f, 500)\n",
    "y = np.zeros((9, x.size))\n",
    "res = solve_bvp(interceptode, boundary_conditions, x, y)\n",
    "u = res.sol(x)[0]\n",
    "y = res.sol(x)[1]\n",
    "z = res.sol(x)[2]\n",
    "plt.plot(x, u)\n",
    "plt.plot(x, y)\n",
    "plt.plot(x, z)\n",
    "plt.show()"
   ]
  }
 ],
 "metadata": {
  "kernelspec": {
   "display_name": "Python 3",
   "language": "python",
   "name": "python3"
  },
  "language_info": {
   "codemirror_mode": {
    "name": "ipython",
    "version": 3
   },
   "file_extension": ".py",
   "mimetype": "text/x-python",
   "name": "python",
   "nbconvert_exporter": "python",
   "pygments_lexer": "ipython3",
   "version": "3.7.0"
  }
 },
 "nbformat": 4,
 "nbformat_minor": 2
}
